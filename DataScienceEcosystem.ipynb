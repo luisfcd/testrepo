{
 "cells": [
  {
   "cell_type": "markdown",
   "id": "1753911f-5300-41b2-a2be-192916c904f8",
   "metadata": {},
   "source": [
    "# Data Science Tools and Ecosystem"
   ]
  },
  {
   "cell_type": "markdown",
   "id": "594e2429-8dc2-4ca9-aa24-12b4b70a99cf",
   "metadata": {},
   "source": [
    "In this notebook, Data Science Tools and Ecosystem are summarized.\n",
    "\n",
    "**Objetives**\n",
    "\n",
    "- List popular languages for Data Science\n",
    "- List popular libraries for Data Science\n",
    "- Learn how to use Git and GitHub\n",
    "- Learn basic data visualization techniques in R Studio\n",
    "- Introduce Jupyter Labs and Jupyter Notebooks"
   ]
  },
  {
   "cell_type": "markdown",
   "id": "d92a89e9-ef36-40d4-8cdd-f7ba9ca94b83",
   "metadata": {},
   "source": [
    "Some of the popular languages that Data Scientists use are:\n",
    "\n",
    "1. Python\n",
    "2. R\n",
    "3. Java\n",
    "4. C\n",
    "5. Julia"
   ]
  },
  {
   "cell_type": "markdown",
   "id": "bb88c10f-56b5-4d5b-b8f3-841a878cef57",
   "metadata": {},
   "source": [
    "Some of the commonly used libraries used by Data Scientists include:\n",
    "\n",
    "1. dplyr\n",
    "2. stringr\n",
    "3. ggplot\n",
    "4. caret"
   ]
  },
  {
   "cell_type": "markdown",
   "id": "18332818-dbe0-4df0-8912-b47e044cf688",
   "metadata": {},
   "source": [
    "|Data Science Tools|\n",
    "|----------|\n",
    "|Kubertenes|\n",
    "|Docker|\n",
    "|Red Hat|"
   ]
  },
  {
   "cell_type": "markdown",
   "id": "453b1908-8e27-476b-affb-ed1fecf1a6c8",
   "metadata": {},
   "source": [
    "### Below are a few examples of evaluating arithmetic expressions in Python."
   ]
  },
  {
   "cell_type": "code",
   "execution_count": 10,
   "id": "f76e9703-3117-4f1b-98d3-9bc789c6c82c",
   "metadata": {},
   "outputs": [
    {
     "data": {
      "text/plain": [
       "17"
      ]
     },
     "execution_count": 10,
     "metadata": {},
     "output_type": "execute_result"
    }
   ],
   "source": [
    "#This a simple arithmetic expression to mutiply then add integers\n",
    "\n",
    "(3*4)+5"
   ]
  },
  {
   "cell_type": "code",
   "execution_count": 11,
   "id": "2b738ca4-7a85-4510-a209-4c8cabe25c4f",
   "metadata": {},
   "outputs": [
    {
     "data": {
      "text/plain": [
       "3.3333333333333335"
      ]
     },
     "execution_count": 11,
     "metadata": {},
     "output_type": "execute_result"
    }
   ],
   "source": [
    "#This will convert 200 minutes to hours by diving by 60\n",
    "\n",
    "200/60"
   ]
  },
  {
   "cell_type": "markdown",
   "id": "07c7797b-584c-456c-80c1-23a7250be2d0",
   "metadata": {},
   "source": [
    "## Author\n",
    "\n",
    "Luis Fernando Chama Deriggi"
   ]
  },
  {
   "cell_type": "code",
   "execution_count": null,
   "id": "79ef4a0b-c217-4467-ba99-570b1bf14e91",
   "metadata": {},
   "outputs": [],
   "source": []
  }
 ],
 "metadata": {
  "kernelspec": {
   "display_name": "Python 3 (ipykernel)",
   "language": "python",
   "name": "python3"
  },
  "language_info": {
   "codemirror_mode": {
    "name": "ipython",
    "version": 3
   },
   "file_extension": ".py",
   "mimetype": "text/x-python",
   "name": "python",
   "nbconvert_exporter": "python",
   "pygments_lexer": "ipython3",
   "version": "3.10.9"
  }
 },
 "nbformat": 4,
 "nbformat_minor": 5
}
